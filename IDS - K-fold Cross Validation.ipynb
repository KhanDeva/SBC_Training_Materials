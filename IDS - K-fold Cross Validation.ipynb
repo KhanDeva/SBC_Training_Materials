{
 "cells": [
  {
   "cell_type": "code",
   "execution_count": 1,
   "id": "79b488e6",
   "metadata": {},
   "outputs": [
    {
     "name": "stderr",
     "output_type": "stream",
     "text": [
      "C:\\Users\\hansaperera\\Anaconda3\\lib\\site-packages\\sklearn\\datasets\\_openml.py:968: FutureWarning: The default value of `parser` will change from `'liac-arff'` to `'auto'` in 1.4. You can set `parser='auto'` to silence this warning. Therefore, an `ImportError` will be raised from 1.4 if the dataset is dense and pandas is not installed. Note that the pandas parser may return different data types. See the Notes Section in fetch_openml's API doc for details.\n",
      "  warn(\n"
     ]
    },
    {
     "name": "stdout",
     "output_type": "stream",
     "text": [
      "Support Vector Machine (SVM) - Accuracy scores:\n",
      "Fold 1: Accuracy = 1.0\n",
      "Fold 2: Accuracy = 0.9666666666666667\n",
      "Fold 3: Accuracy = 0.9333333333333333\n",
      "Fold 4: Accuracy = 1.0\n",
      "Fold 5: Accuracy = 0.9333333333333333\n",
      "Average Accuracy (SVM): 0.9666666666666668\n",
      "\n",
      "Boosting (AdaBoost) - Accuracy scores:\n",
      "Fold 1: Accuracy = 0.9666666666666667\n",
      "Fold 2: Accuracy = 0.9666666666666667\n",
      "Fold 3: Accuracy = 0.9333333333333333\n",
      "Fold 4: Accuracy = 0.9666666666666667\n",
      "Fold 5: Accuracy = 0.9\n",
      "Average Accuracy (AdaBoost): 0.9466666666666667\n",
      "\n",
      "Random Forest - Accuracy scores:\n",
      "Fold 1: Accuracy = 1.0\n",
      "Fold 2: Accuracy = 0.9666666666666667\n",
      "Fold 3: Accuracy = 0.9333333333333333\n",
      "Fold 4: Accuracy = 1.0\n",
      "Fold 5: Accuracy = 0.9\n",
      "Average Accuracy (Random Forest): 0.9600000000000002\n",
      "\n"
     ]
    }
   ],
   "source": [
    "from sklearn.datasets import fetch_openml\n",
    "from sklearn.model_selection import cross_val_score, StratifiedKFold\n",
    "from sklearn.svm import SVC\n",
    "from sklearn.ensemble import AdaBoostClassifier, RandomForestClassifier\n",
    "\n",
    "# Fetch the online dataset\n",
    "dataset = fetch_openml(name='iris', version=1, as_frame=True)\n",
    "\n",
    "# Split the dataset into features (X) and target variable (y)\n",
    "X = dataset.data\n",
    "y = dataset.target\n",
    "\n",
    "# Create models\n",
    "svm_model = SVC()\n",
    "boosting_model = AdaBoostClassifier()\n",
    "rf_model = RandomForestClassifier()\n",
    "\n",
    "# Create a cross-validation object (StratifiedKFold with 5 folds)\n",
    "kfold = StratifiedKFold(n_splits=5, shuffle=True, random_state=42)\n",
    "\n",
    "# Perform k-fold cross-validation and calculate the accuracy scores\n",
    "\n",
    "# Support Vector Machine (SVM)\n",
    "svm_scores = cross_val_score(svm_model, X, y, cv=kfold, scoring='accuracy')\n",
    "print(\"Support Vector Machine (SVM) - Accuracy scores:\")\n",
    "for fold, score in enumerate(svm_scores, start=1):\n",
    "    print(f\"Fold {fold}: Accuracy = {score}\")\n",
    "print(f\"Average Accuracy (SVM): {svm_scores.mean()}\\n\")\n",
    "\n",
    "# Boosting (AdaBoost)\n",
    "boosting_scores = cross_val_score(boosting_model, X, y, cv=kfold, scoring='accuracy')\n",
    "print(\"Boosting (AdaBoost) - Accuracy scores:\")\n",
    "for fold, score in enumerate(boosting_scores, start=1):\n",
    "    print(f\"Fold {fold}: Accuracy = {score}\")\n",
    "print(f\"Average Accuracy (AdaBoost): {boosting_scores.mean()}\\n\")\n",
    "\n",
    "# Random Forest\n",
    "rf_scores = cross_val_score(rf_model, X, y, cv=kfold, scoring='accuracy')\n",
    "print(\"Random Forest - Accuracy scores:\")\n",
    "for fold, score in enumerate(rf_scores, start=1):\n",
    "    print(f\"Fold {fold}: Accuracy = {score}\")\n",
    "print(f\"Average Accuracy (Random Forest): {rf_scores.mean()}\\n\")\n"
   ]
  },
  {
   "cell_type": "code",
   "execution_count": null,
   "id": "87f086ef",
   "metadata": {},
   "outputs": [],
   "source": []
  }
 ],
 "metadata": {
  "kernelspec": {
   "display_name": "Python 3 (ipykernel)",
   "language": "python",
   "name": "python3"
  },
  "language_info": {
   "codemirror_mode": {
    "name": "ipython",
    "version": 3
   },
   "file_extension": ".py",
   "mimetype": "text/x-python",
   "name": "python",
   "nbconvert_exporter": "python",
   "pygments_lexer": "ipython3",
   "version": "3.9.12"
  }
 },
 "nbformat": 4,
 "nbformat_minor": 5
}
