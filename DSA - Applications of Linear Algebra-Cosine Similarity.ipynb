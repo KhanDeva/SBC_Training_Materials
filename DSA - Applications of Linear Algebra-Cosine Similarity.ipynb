{
 "cells": [
  {
   "cell_type": "markdown",
   "id": "b521a37b",
   "metadata": {},
   "source": [
    "Cosine similarity is a measure of similarity between two non-zero vectors of an inner product space, and is often used in natural language processing and information retrieval."
   ]
  },
  {
   "cell_type": "code",
   "execution_count": 6,
   "id": "5afc328b",
   "metadata": {},
   "outputs": [
    {
     "name": "stdout",
     "output_type": "stream",
     "text": [
      "Cosine similarity: 1.0\n"
     ]
    }
   ],
   "source": [
    "from sklearn.metrics.pairwise import cosine_similarity\n",
    "\n",
    "# Define two vectors\n",
    "vector1 = [1, 2, 3]\n",
    "vector2 = [3, 6, 9] \n",
    "\n",
    "# Calculate the cosine similarity\n",
    "cosine_sim = cosine_similarity([vector1], [vector2])\n",
    "\n",
    "# Print the cosine similarity\n",
    "print(\"Cosine similarity:\", cosine_sim[0][0])"
   ]
  },
  {
   "cell_type": "code",
   "execution_count": 2,
   "id": "6c3300fa",
   "metadata": {},
   "outputs": [
    {
     "name": "stdout",
     "output_type": "stream",
     "text": [
      "Cosine similarity: 0.9746318461970762\n"
     ]
    }
   ],
   "source": [
    "#without any libararies used\n",
    "import math\n",
    "\n",
    "# Define two vectors\n",
    "vector1 = [1, 2, 3]\n",
    "vector2 = [4, 5, 6]\n",
    "\n",
    "# Calculate the dot product of the vectors\n",
    "dot_product = sum(i * j for i, j in zip(vector1, vector2))\n",
    "\n",
    "# Calculate the magnitude of each vector\n",
    "magnitude1 = math.sqrt(sum(i**2 for i in vector1))\n",
    "magnitude2 = math.sqrt(sum(j**2 for j in vector2))\n",
    "\n",
    "# Calculate the cosine similarity\n",
    "cosine_sim = dot_product / (magnitude1 * magnitude2)\n",
    "\n",
    "# Print the cosine similarity\n",
    "print(\"Cosine similarity:\", cosine_sim)\n"
   ]
  }
 ],
 "metadata": {
  "kernelspec": {
   "display_name": "Python 3 (ipykernel)",
   "language": "python",
   "name": "python3"
  },
  "language_info": {
   "codemirror_mode": {
    "name": "ipython",
    "version": 3
   },
   "file_extension": ".py",
   "mimetype": "text/x-python",
   "name": "python",
   "nbconvert_exporter": "python",
   "pygments_lexer": "ipython3",
   "version": "3.9.12"
  }
 },
 "nbformat": 4,
 "nbformat_minor": 5
}
