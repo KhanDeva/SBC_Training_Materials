{
 "cells": [
  {
   "cell_type": "code",
   "execution_count": 1,
   "id": "4629da8f",
   "metadata": {},
   "outputs": [
    {
     "data": {
      "application/vnd.jupyter.widget-view+json": {
       "model_id": "",
       "version_major": 2,
       "version_minor": 0
      },
      "text/plain": [
       "Optimization Progress:   0%|          | 0/120 [00:00<?, ?pipeline/s]"
      ]
     },
     "metadata": {},
     "output_type": "display_data"
    },
    {
     "name": "stdout",
     "output_type": "stream",
     "text": [
      "\n",
      "Generation 1 - Current best internal CV score: 0.9802197802197803\n",
      "\n",
      "Generation 2 - Current best internal CV score: 0.9802197802197803\n",
      "\n",
      "Generation 3 - Current best internal CV score: 0.9802197802197803\n",
      "\n",
      "Generation 4 - Current best internal CV score: 0.9802197802197803\n",
      "\n",
      "Generation 5 - Current best internal CV score: 0.9802197802197803\n",
      "\n",
      "Best pipeline: MLPClassifier(GradientBoostingClassifier(input_matrix, learning_rate=0.5, max_depth=9, max_features=0.6500000000000001, min_samples_leaf=6, min_samples_split=8, n_estimators=100, subsample=0.8), alpha=0.0001, learning_rate_init=0.01)\n"
     ]
    },
    {
     "name": "stderr",
     "output_type": "stream",
     "text": [
      "C:\\Users\\hansaperera\\Anaconda3\\lib\\site-packages\\sklearn\\metrics\\_scorer.py:794: FutureWarning: sklearn.metrics.SCORERS is deprecated and will be removed in v1.3. Please use sklearn.metrics.get_scorer_names to get a list of available scorers and sklearn.metrics.get_metric to get scorer.\n",
      "  warnings.warn(\n"
     ]
    },
    {
     "name": "stdout",
     "output_type": "stream",
     "text": [
      "Accuracy: 0.9736842105263158\n",
      "Best pipeline:\n",
      "Pipeline(steps=[('stackingestimator',\n",
      "                 StackingEstimator(estimator=GradientBoostingClassifier(learning_rate=0.5,\n",
      "                                                                        max_depth=9,\n",
      "                                                                        max_features=0.6500000000000001,\n",
      "                                                                        min_samples_leaf=6,\n",
      "                                                                        min_samples_split=8,\n",
      "                                                                        subsample=0.8))),\n",
      "                ('mlpclassifier', MLPClassifier(learning_rate_init=0.01))])\n"
     ]
    },
    {
     "ename": "AttributeError",
     "evalue": "'TPOTClassifier' object has no attribute 'best_pipeline_'",
     "output_type": "error",
     "traceback": [
      "\u001b[1;31m---------------------------------------------------------------------------\u001b[0m",
      "\u001b[1;31mAttributeError\u001b[0m                            Traceback (most recent call last)",
      "Input \u001b[1;32mIn [1]\u001b[0m, in \u001b[0;36m<cell line: 26>\u001b[1;34m()\u001b[0m\n\u001b[0;32m     23\u001b[0m \u001b[38;5;28mprint\u001b[39m(tpot\u001b[38;5;241m.\u001b[39mfitted_pipeline_)\n\u001b[0;32m     25\u001b[0m \u001b[38;5;66;03m# Explain the best pipeline\u001b[39;00m\n\u001b[1;32m---> 26\u001b[0m explanation \u001b[38;5;241m=\u001b[39m tpot\u001b[38;5;241m.\u001b[39mevaluated_individuals_[\u001b[43mtpot\u001b[49m\u001b[38;5;241;43m.\u001b[39;49m\u001b[43mbest_pipeline_\u001b[49m]\u001b[38;5;241m.\u001b[39mpipeline_\u001b[38;5;241m.\u001b[39mexplain()\n\u001b[0;32m     27\u001b[0m \u001b[38;5;28mprint\u001b[39m(\u001b[38;5;124m\"\u001b[39m\u001b[38;5;124mExplanation:\u001b[39m\u001b[38;5;124m\"\u001b[39m)\n\u001b[0;32m     28\u001b[0m \u001b[38;5;28mprint\u001b[39m(explanation)\n",
      "\u001b[1;31mAttributeError\u001b[0m: 'TPOTClassifier' object has no attribute 'best_pipeline_'"
     ]
    }
   ],
   "source": [
    "from tpot import TPOTClassifier\n",
    "from sklearn.datasets import load_breast_cancer\n",
    "from sklearn.model_selection import train_test_split\n",
    "\n",
    "# Load the Breast Cancer Wisconsin dataset from the UCI repository\n",
    "data = load_breast_cancer()\n",
    "X = data.data\n",
    "y = data.target\n",
    "\n",
    "# Split the data into training and testing sets\n",
    "X_train, X_test, y_train, y_test = train_test_split(X, y, test_size=0.2, random_state=42)\n",
    "\n",
    "# Create and fit the TPOT classifier\n",
    "tpot = TPOTClassifier(generations=5, population_size=20, verbosity=2)\n",
    "tpot.fit(X_train, y_train)\n",
    "\n",
    "# Evaluate the best pipeline on the test data\n",
    "accuracy = tpot.score(X_test, y_test)\n",
    "print(\"Accuracy:\", accuracy)\n",
    "\n",
    "# Print the best pipeline\n",
    "print(\"Best pipeline:\")\n",
    "print(tpot.fitted_pipeline_)\n",
    "\n",
    "# Explain the best pipeline\n",
    "explanation = tpot.evaluated_individuals_[tpot.best_pipeline_].pipeline_.explain()\n",
    "print(\"Explanation:\")\n",
    "print(explanation)\n"
   ]
  }
 ],
 "metadata": {
  "kernelspec": {
   "display_name": "Python 3 (ipykernel)",
   "language": "python",
   "name": "python3"
  },
  "language_info": {
   "codemirror_mode": {
    "name": "ipython",
    "version": 3
   },
   "file_extension": ".py",
   "mimetype": "text/x-python",
   "name": "python",
   "nbconvert_exporter": "python",
   "pygments_lexer": "ipython3",
   "version": "3.9.12"
  }
 },
 "nbformat": 4,
 "nbformat_minor": 5
}
