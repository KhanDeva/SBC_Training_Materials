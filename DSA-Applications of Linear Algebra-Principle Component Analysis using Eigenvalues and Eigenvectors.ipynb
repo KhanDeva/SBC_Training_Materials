{
 "cells": [
  {
   "cell_type": "code",
   "execution_count": 3,
   "id": "59e726e2",
   "metadata": {},
   "outputs": [],
   "source": [
    "#import the necessary libraries and create the dataset\n",
    "import numpy as np\n",
    "import matplotlib.pyplot as plt\n",
    "\n",
    "# Create a dataset of 10 two-dimensional points\n",
    "X = np.array([[1, 1], [2, 2], [3, 3], [4, 4], [5, 5], [6, 6], [7, 7], [8, 8], [9, 9], [10, 10]])\n",
    "\n"
   ]
  },
  {
   "cell_type": "code",
   "execution_count": 4,
   "id": "91e08036",
   "metadata": {},
   "outputs": [],
   "source": [
    "#preprocess the dataset by scaling the features to have zero mean and unit variance\n",
    "from sklearn.preprocessing import StandardScaler\n",
    "\n",
    "# Scale the features\n",
    "scaler = StandardScaler()\n",
    "X_scaled = scaler.fit_transform(X)\n"
   ]
  },
  {
   "cell_type": "code",
   "execution_count": 5,
   "id": "d2fc0c4a",
   "metadata": {},
   "outputs": [],
   "source": [
    "# Compute the covariance matrix\n",
    "cov_matrix = np.cov(X_scaled.T)\n"
   ]
  },
  {
   "cell_type": "code",
   "execution_count": 6,
   "id": "ea95e106",
   "metadata": {},
   "outputs": [],
   "source": [
    "# Compute the eigenvectors and eigenvalues\n",
    "eigvals, eigvecs = np.linalg.eig(cov_matrix)\n"
   ]
  },
  {
   "cell_type": "code",
   "execution_count": 7,
   "id": "16a56835",
   "metadata": {},
   "outputs": [],
   "source": [
    "# Sort the eigenvectors by decreasing eigenvalues\n",
    "sorted_indices = np.argsort(eigvals)[::-1]\n",
    "sorted_eigvecs = eigvecs[:, sorted_indices]\n"
   ]
  },
  {
   "cell_type": "code",
   "execution_count": 8,
   "id": "42f8a365",
   "metadata": {},
   "outputs": [],
   "source": [
    "# Select the top n eigenvectors\n",
    "n = 1\n",
    "top_eigvecs = sorted_eigvecs[:, :n]\n",
    "\n",
    "# Project the data onto the top eigenvectors\n",
    "X_pca = X_scaled.dot(top_eigvecs)\n"
   ]
  },
  {
   "cell_type": "code",
   "execution_count": 9,
   "id": "779c2f1d",
   "metadata": {},
   "outputs": [
    {
     "data": {
      "image/png": "[encoded data removed]",
      "text/plain": [
       "<Figure size 432x288 with 1 Axes>"
      ]
     },
     "metadata": {
      "needs_background": "light"
     },
     "output_type": "display_data"
    }
   ],
   "source": [
    "# Plot the original dataset\n",
    "plt.scatter(X_scaled[:, 0], X_scaled[:, 1], label='Original Data')\n",
    "\n",
    "# Plot the reduced dataset\n",
    "plt.scatter(X_pca[:, 0], np.zeros_like(X_pca), label='Reduced Data')\n",
    "\n",
    "# Add labels and legend\n",
    "plt.xlabel('Feature 1')\n",
    "plt.ylabel('Feature 2')\n",
    "plt.legend()\n",
    "\n",
    "# Show the plot\n",
    "plt.show()\n"
   ]
  }
 ],
 "metadata": {
  "kernelspec": {
   "display_name": "Python 3 (ipykernel)",
   "language": "python",
   "name": "python3"
  },
  "language_info": {
   "codemirror_mode": {
    "name": "ipython",
    "version": 3
   },
   "file_extension": ".py",
   "mimetype": "text/x-python",
   "name": "python",
   "nbconvert_exporter": "python",
   "pygments_lexer": "ipython3",
   "version": "3.9.12"
  }
 },
 "nbformat": 4,
 "nbformat_minor": 5
}
